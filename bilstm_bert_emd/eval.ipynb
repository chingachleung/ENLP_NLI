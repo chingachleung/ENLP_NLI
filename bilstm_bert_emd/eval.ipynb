{
 "cells": [
  {
   "cell_type": "code",
   "execution_count": 1,
   "id": "6c70fc56-e1fb-42d3-be70-e289b38d57b7",
   "metadata": {},
   "outputs": [],
   "source": [
    "import os\n",
    "import torch\n",
    "from torch import nn\n",
    "from torch.utils.data import Dataset\n",
    "\n",
    "\n",
    "import pickle\n",
    "import numpy as np\n",
    "import pandas as pd\n",
    "\n",
    "from torch.utils.data import DataLoader\n",
    "from sklearn.metrics import accuracy_score\n",
    "from sklearn.metrics import precision_recall_fscore_support\n",
    "\n",
    "from NLIModel import SiameseNLI\n",
    "from NLIDataset import NLIDataset, collate_batch\n",
    "from sklearn.metrics import accuracy_score"
   ]
  },
  {
   "cell_type": "code",
   "execution_count": 2,
   "id": "ce85dd6d-6466-482b-bef5-af8ede428207",
   "metadata": {},
   "outputs": [
    {
     "data": {
      "text/plain": [
       "SiameseNLI(\n",
       "  (lstm): LSTM(768, 512, num_layers=4, bidirectional=True)\n",
       "  (w1): Linear(in_features=2048, out_features=128, bias=True)\n",
       "  (bn1): BatchNorm1d(128, eps=1e-05, momentum=0.1, affine=True, track_running_stats=True)\n",
       "  (w2): Linear(in_features=128, out_features=3, bias=True)\n",
       ")"
      ]
     },
     "execution_count": 2,
     "metadata": {},
     "output_type": "execute_result"
    }
   ],
   "source": [
    "model = SiameseNLI(input_size=768,num_layers=4,hidden_size=512)\n",
    "model.load_state_dict(torch.load('models/nli_siamese_bert_emb/nli_siamese_epoch_3.pt'))\n",
    "model.eval()"
   ]
  },
  {
   "cell_type": "code",
   "execution_count": 3,
   "id": "8df02078-3c03-421c-bf4a-c16361123c66",
   "metadata": {},
   "outputs": [],
   "source": [
    "test_data_loc = '../ENLP_NLI/snli_1.0/snli_1.0_dev.txt'"
   ]
  },
  {
   "cell_type": "code",
   "execution_count": 4,
   "id": "eeaa8863-f9b1-40aa-bab7-ad932b734bd0",
   "metadata": {},
   "outputs": [
    {
     "name": "stderr",
     "output_type": "stream",
     "text": [
      "Some weights of the model checkpoint at bert-base-uncased were not used when initializing BertModel: ['cls.predictions.transform.LayerNorm.bias', 'cls.predictions.transform.LayerNorm.weight', 'cls.predictions.transform.dense.bias', 'cls.seq_relationship.weight', 'cls.seq_relationship.bias', 'cls.predictions.decoder.weight', 'cls.predictions.bias', 'cls.predictions.transform.dense.weight']\n",
      "- This IS expected if you are initializing BertModel from the checkpoint of a model trained on another task or with another architecture (e.g. initializing a BertForSequenceClassification model from a BertForPreTraining model).\n",
      "- This IS NOT expected if you are initializing BertModel from the checkpoint of a model that you expect to be exactly identical (initializing a BertForSequenceClassification model from a BertForSequenceClassification model).\n"
     ]
    }
   ],
   "source": [
    "dev_dataset = NLIDataset(test_data_loc,len_sample=10000,prefix='dev')\n",
    "devloader = torch.utils.data.DataLoader(dev_dataset, batch_size=64, shuffle=False, num_workers=2, collate_fn=collate_batch)\n"
   ]
  },
  {
   "cell_type": "code",
   "execution_count": 5,
   "id": "762d03fa-6436-465c-a64f-8dbd8d2a3ebd",
   "metadata": {},
   "outputs": [],
   "source": [
    "CLASS_WEIGHTS = torch.Tensor(np.ones(3))\n",
    "LOSS_FN = nn.CrossEntropyLoss(weight=CLASS_WEIGHTS)\n",
    "INPUT_SIZE = 768\n",
    "sftmx = nn.Softmax(dim=1)"
   ]
  },
  {
   "cell_type": "code",
   "execution_count": 6,
   "id": "981254bf-4f14-428a-8229-f51c04f0652a",
   "metadata": {},
   "outputs": [
    {
     "name": "stdout",
     "output_type": "stream",
     "text": [
      "Epoch dev loss: 0.8413872984564228\n",
      "Dev accuracy: 0.6157\n"
     ]
    }
   ],
   "source": [
    "with torch.no_grad():\n",
    "    curr_loss_dev = 0.0\n",
    "\n",
    "    all_preds_dev = torch.tensor([])\n",
    "    all_targets_dev = torch.tensor([])\n",
    "\n",
    "    for j, data_dev in enumerate(devloader):\n",
    "        sents1_dev, sents2_dev, targets_1h_dev, targets_dev  = data_dev\n",
    "        #print(sents1_dev)\n",
    "        #print(sents1_dev.size())\n",
    "\n",
    "        sents1_dev = torch.reshape(sents1_dev,(len(sents1_dev), -1,INPUT_SIZE))\n",
    "        sents2_dev = torch.reshape(sents2_dev,(len(sents2_dev), -1,INPUT_SIZE))\n",
    "\n",
    "\n",
    "        outputs_dev = model(sents1_dev.float(),sents2_dev.float())\n",
    "        loss_dev = LOSS_FN(outputs_dev, targets_1h_dev.float())\n",
    "\n",
    "        preds_dev = torch.argmax(sftmx(outputs_dev.detach()),dim=1)\n",
    "\n",
    "        curr_loss_dev += loss_dev.item()\n",
    "\n",
    "        all_preds_dev = torch.cat((all_preds_dev, preds_dev))\n",
    "        all_targets_dev = torch.cat((all_targets_dev, targets_dev.detach()))\n",
    "\n",
    "    curr_loss_dev = curr_loss_dev / (j+1)\n",
    "    print('Epoch dev loss:',curr_loss_dev)\n",
    "\n",
    "    acc_dev = accuracy_score(all_targets_dev.numpy(), all_preds_dev.numpy())\n",
    "    print('Dev accuracy:', acc_dev)"
   ]
  },
  {
   "cell_type": "code",
   "execution_count": null,
   "id": "4bcbe594-84f5-44b5-b298-2d13df986da4",
   "metadata": {},
   "outputs": [],
   "source": []
  },
  {
   "cell_type": "code",
   "execution_count": 10,
   "id": "d4ba7f7e-d03c-4757-abfc-f23810cdf0bc",
   "metadata": {},
   "outputs": [
    {
     "name": "stdout",
     "output_type": "stream",
     "text": [
      "10000\n"
     ]
    },
    {
     "data": {
      "text/plain": [
       "tensor([1., 2., 0.,  ..., 2., 0., 2.])"
      ]
     },
     "execution_count": 10,
     "metadata": {},
     "output_type": "execute_result"
    }
   ],
   "source": [
    "print(len(all_preds_dev))\n",
    "all_preds_dev"
   ]
  },
  {
   "cell_type": "code",
   "execution_count": 12,
   "id": "ee6a31e9-97df-4001-a7e0-11c8958ec392",
   "metadata": {},
   "outputs": [
    {
     "name": "stdout",
     "output_type": "stream",
     "text": [
      "10000\n"
     ]
    },
    {
     "data": {
      "text/plain": [
       "tensor([1., 2., 0.,  ..., 2., 0., 1.])"
      ]
     },
     "execution_count": 12,
     "metadata": {},
     "output_type": "execute_result"
    }
   ],
   "source": [
    "print(len(all_targets_dev))\n",
    "all_targets_dev"
   ]
  },
  {
   "cell_type": "code",
   "execution_count": 13,
   "id": "4dc4770f-a620-4db2-87b1-21d1ab3635d4",
   "metadata": {},
   "outputs": [],
   "source": [
    "from sklearn.metrics import confusion_matrix"
   ]
  },
  {
   "cell_type": "code",
   "execution_count": 14,
   "id": "651ec136-3c61-4d42-bd42-ca6e34c14bce",
   "metadata": {},
   "outputs": [
    {
     "data": {
      "text/plain": [
       "array([[2006,  712,  615],\n",
       "       [ 705, 2091,  537],\n",
       "       [ 699,  575, 2060]])"
      ]
     },
     "execution_count": 14,
     "metadata": {},
     "output_type": "execute_result"
    }
   ],
   "source": [
    "confusion_matrix(all_targets_dev.numpy(), all_preds_dev.numpy())"
   ]
  },
  {
   "cell_type": "code",
   "execution_count": null,
   "id": "90d85f66-111f-49ea-b106-ebcbf6a699dd",
   "metadata": {},
   "outputs": [],
   "source": []
  },
  {
   "cell_type": "code",
   "execution_count": 15,
   "id": "10d7689e-af4a-439b-995f-1f15d5ade94e",
   "metadata": {},
   "outputs": [],
   "source": [
    "from sklearn.metrics import precision_recall_fscore_support"
   ]
  },
  {
   "cell_type": "code",
   "execution_count": 20,
   "id": "11b33f12-c328-4860-95ce-bf4381c42974",
   "metadata": {},
   "outputs": [
    {
     "data": {
      "text/plain": [
       "(array([0.58826979, 0.61900533, 0.64134496]),\n",
       " array([0.60186019, 0.62736274, 0.61787642]),\n",
       " array([0.59498739, 0.62315601, 0.629392  ]),\n",
       " array([3333, 3333, 3334]))"
      ]
     },
     "execution_count": 20,
     "metadata": {},
     "output_type": "execute_result"
    }
   ],
   "source": [
    "precision_recall_fscore_support(all_targets_dev.numpy(), all_preds_dev.numpy(), average=None)"
   ]
  },
  {
   "cell_type": "code",
   "execution_count": 18,
   "id": "a5419686-a4e7-4f2f-971d-bcae9ddebefe",
   "metadata": {},
   "outputs": [
    {
     "data": {
      "text/plain": [
       "10000"
      ]
     },
     "execution_count": 18,
     "metadata": {},
     "output_type": "execute_result"
    }
   ],
   "source": [
    "3333+ 3333+ 3334"
   ]
  },
  {
   "cell_type": "code",
   "execution_count": 23,
   "id": "c1c4d72c-d6c2-4e2d-aaf0-fe69e65b0976",
   "metadata": {},
   "outputs": [
    {
     "data": {
      "text/plain": [
       "array([1., 2., 0., ..., 2., 0., 2.], dtype=float32)"
      ]
     },
     "execution_count": 23,
     "metadata": {},
     "output_type": "execute_result"
    }
   ],
   "source": [
    "all_preds_dev.numpy()"
   ]
  },
  {
   "cell_type": "code",
   "execution_count": 25,
   "id": "500572a9-983b-4a9c-b951-4fd1cc941d61",
   "metadata": {},
   "outputs": [],
   "source": [
    "dev_data = pd.read_csv('../ENLP_NLI/snli_1.0/snli_1.0_dev.txt', sep='\\t')"
   ]
  },
  {
   "cell_type": "code",
   "execution_count": 26,
   "id": "15d43fc9-671e-4953-865f-43b94d3f3580",
   "metadata": {},
   "outputs": [
    {
     "data": {
      "text/html": [
       "<div>\n",
       "<style scoped>\n",
       "    .dataframe tbody tr th:only-of-type {\n",
       "        vertical-align: middle;\n",
       "    }\n",
       "\n",
       "    .dataframe tbody tr th {\n",
       "        vertical-align: top;\n",
       "    }\n",
       "\n",
       "    .dataframe thead th {\n",
       "        text-align: right;\n",
       "    }\n",
       "</style>\n",
       "<table border=\"1\" class=\"dataframe\">\n",
       "  <thead>\n",
       "    <tr style=\"text-align: right;\">\n",
       "      <th></th>\n",
       "      <th>gold_label</th>\n",
       "      <th>sentence1_binary_parse</th>\n",
       "      <th>sentence2_binary_parse</th>\n",
       "      <th>sentence1_parse</th>\n",
       "      <th>sentence2_parse</th>\n",
       "      <th>sentence1</th>\n",
       "      <th>sentence2</th>\n",
       "      <th>captionID</th>\n",
       "      <th>pairID</th>\n",
       "      <th>label1</th>\n",
       "      <th>label2</th>\n",
       "      <th>label3</th>\n",
       "      <th>label4</th>\n",
       "      <th>label5</th>\n",
       "    </tr>\n",
       "  </thead>\n",
       "  <tbody>\n",
       "    <tr>\n",
       "      <th>0</th>\n",
       "      <td>neutral</td>\n",
       "      <td>( ( Two women ) ( ( are ( embracing ( while ( ...</td>\n",
       "      <td>( ( The sisters ) ( ( are ( ( hugging goodbye ...</td>\n",
       "      <td>(ROOT (S (NP (CD Two) (NNS women)) (VP (VBP ar...</td>\n",
       "      <td>(ROOT (S (NP (DT The) (NNS sisters)) (VP (VBP ...</td>\n",
       "      <td>Two women are embracing while holding to go pa...</td>\n",
       "      <td>The sisters are hugging goodbye while holding ...</td>\n",
       "      <td>4705552913.jpg#2</td>\n",
       "      <td>4705552913.jpg#2r1n</td>\n",
       "      <td>neutral</td>\n",
       "      <td>entailment</td>\n",
       "      <td>neutral</td>\n",
       "      <td>neutral</td>\n",
       "      <td>neutral</td>\n",
       "    </tr>\n",
       "    <tr>\n",
       "      <th>1</th>\n",
       "      <td>entailment</td>\n",
       "      <td>( ( Two women ) ( ( are ( embracing ( while ( ...</td>\n",
       "      <td>( ( Two woman ) ( ( are ( holding packages ) )...</td>\n",
       "      <td>(ROOT (S (NP (CD Two) (NNS women)) (VP (VBP ar...</td>\n",
       "      <td>(ROOT (S (NP (CD Two) (NN woman)) (VP (VBP are...</td>\n",
       "      <td>Two women are embracing while holding to go pa...</td>\n",
       "      <td>Two woman are holding packages.</td>\n",
       "      <td>4705552913.jpg#2</td>\n",
       "      <td>4705552913.jpg#2r1e</td>\n",
       "      <td>entailment</td>\n",
       "      <td>entailment</td>\n",
       "      <td>entailment</td>\n",
       "      <td>entailment</td>\n",
       "      <td>entailment</td>\n",
       "    </tr>\n",
       "    <tr>\n",
       "      <th>2</th>\n",
       "      <td>contradiction</td>\n",
       "      <td>( ( Two women ) ( ( are ( embracing ( while ( ...</td>\n",
       "      <td>( ( The men ) ( ( are ( fighting ( outside ( a...</td>\n",
       "      <td>(ROOT (S (NP (CD Two) (NNS women)) (VP (VBP ar...</td>\n",
       "      <td>(ROOT (S (NP (DT The) (NNS men)) (VP (VBP are)...</td>\n",
       "      <td>Two women are embracing while holding to go pa...</td>\n",
       "      <td>The men are fighting outside a deli.</td>\n",
       "      <td>4705552913.jpg#2</td>\n",
       "      <td>4705552913.jpg#2r1c</td>\n",
       "      <td>contradiction</td>\n",
       "      <td>contradiction</td>\n",
       "      <td>contradiction</td>\n",
       "      <td>contradiction</td>\n",
       "      <td>contradiction</td>\n",
       "    </tr>\n",
       "    <tr>\n",
       "      <th>3</th>\n",
       "      <td>entailment</td>\n",
       "      <td>( ( ( Two ( young children ) ) ( in ( ( ( ( ( ...</td>\n",
       "      <td>( ( ( Two kids ) ( in ( numbered jerseys ) ) )...</td>\n",
       "      <td>(ROOT (S (NP (NP (CD Two) (JJ young) (NNS chil...</td>\n",
       "      <td>(ROOT (S (NP (NP (CD Two) (NNS kids)) (PP (IN ...</td>\n",
       "      <td>Two young children in blue jerseys, one with t...</td>\n",
       "      <td>Two kids in numbered jerseys wash their hands.</td>\n",
       "      <td>2407214681.jpg#0</td>\n",
       "      <td>2407214681.jpg#0r1e</td>\n",
       "      <td>entailment</td>\n",
       "      <td>entailment</td>\n",
       "      <td>entailment</td>\n",
       "      <td>entailment</td>\n",
       "      <td>entailment</td>\n",
       "    </tr>\n",
       "    <tr>\n",
       "      <th>4</th>\n",
       "      <td>neutral</td>\n",
       "      <td>( ( ( Two ( young children ) ) ( in ( ( ( ( ( ...</td>\n",
       "      <td>( ( ( Two kids ) ( at ( a ballgame ) ) ) ( ( w...</td>\n",
       "      <td>(ROOT (S (NP (NP (CD Two) (JJ young) (NNS chil...</td>\n",
       "      <td>(ROOT (S (NP (NP (CD Two) (NNS kids)) (PP (IN ...</td>\n",
       "      <td>Two young children in blue jerseys, one with t...</td>\n",
       "      <td>Two kids at a ballgame wash their hands.</td>\n",
       "      <td>2407214681.jpg#0</td>\n",
       "      <td>2407214681.jpg#0r1n</td>\n",
       "      <td>neutral</td>\n",
       "      <td>neutral</td>\n",
       "      <td>neutral</td>\n",
       "      <td>entailment</td>\n",
       "      <td>entailment</td>\n",
       "    </tr>\n",
       "    <tr>\n",
       "      <th>...</th>\n",
       "      <td>...</td>\n",
       "      <td>...</td>\n",
       "      <td>...</td>\n",
       "      <td>...</td>\n",
       "      <td>...</td>\n",
       "      <td>...</td>\n",
       "      <td>...</td>\n",
       "      <td>...</td>\n",
       "      <td>...</td>\n",
       "      <td>...</td>\n",
       "      <td>...</td>\n",
       "      <td>...</td>\n",
       "      <td>...</td>\n",
       "      <td>...</td>\n",
       "    </tr>\n",
       "    <tr>\n",
       "      <th>9995</th>\n",
       "      <td>-</td>\n",
       "      <td>( ( ( A ( small girl ) ) ( wearing ( a ( pink ...</td>\n",
       "      <td>( ( The girl ) ( ( is ( sitting ( on ( ( a ( c...</td>\n",
       "      <td>(ROOT (S (NP (NP (DT A) (JJ small) (NN girl)) ...</td>\n",
       "      <td>(ROOT (S (NP (DT The) (NN girl)) (VP (VBZ is) ...</td>\n",
       "      <td>A small girl wearing a pink jacket is riding o...</td>\n",
       "      <td>The girl is sitting on a carved horse made of ...</td>\n",
       "      <td>77063034.jpg#3</td>\n",
       "      <td>77063034.jpg#3r1n</td>\n",
       "      <td>neutral</td>\n",
       "      <td>contradiction</td>\n",
       "      <td>entailment</td>\n",
       "      <td>contradiction</td>\n",
       "      <td>NaN</td>\n",
       "    </tr>\n",
       "    <tr>\n",
       "      <th>9996</th>\n",
       "      <td>contradiction</td>\n",
       "      <td>( ( ( A ( small girl ) ) ( wearing ( a ( pink ...</td>\n",
       "      <td>( ( The girl ) ( ( is ( moving ( at ( ( the sp...</td>\n",
       "      <td>(ROOT (S (NP (NP (DT A) (JJ small) (NN girl)) ...</td>\n",
       "      <td>(ROOT (S (NP (DT The) (NN girl)) (VP (VBZ is) ...</td>\n",
       "      <td>A small girl wearing a pink jacket is riding o...</td>\n",
       "      <td>The girl is moving at the speed of light.</td>\n",
       "      <td>77063034.jpg#3</td>\n",
       "      <td>77063034.jpg#3r1c</td>\n",
       "      <td>contradiction</td>\n",
       "      <td>contradiction</td>\n",
       "      <td>contradiction</td>\n",
       "      <td>contradiction</td>\n",
       "      <td>contradiction</td>\n",
       "    </tr>\n",
       "    <tr>\n",
       "      <th>9997</th>\n",
       "      <td>entailment</td>\n",
       "      <td>( ( ( A ( young girl ) ) ( with ( ( ( ( ( ( bl...</td>\n",
       "      <td>( People ( in ( a ( water fountain ) ) ) )</td>\n",
       "      <td>(ROOT (NP (NP (DT A) (JJ young) (NN girl)) (PP...</td>\n",
       "      <td>(ROOT (NP (NP (NNS People)) (PP (IN in) (NP (D...</td>\n",
       "      <td>A young girl with blue and pink ribbons in her...</td>\n",
       "      <td>People in a water fountain</td>\n",
       "      <td>4805835848.jpg#0</td>\n",
       "      <td>4805835848.jpg#0r1e</td>\n",
       "      <td>entailment</td>\n",
       "      <td>entailment</td>\n",
       "      <td>entailment</td>\n",
       "      <td>entailment</td>\n",
       "      <td>entailment</td>\n",
       "    </tr>\n",
       "    <tr>\n",
       "      <th>9998</th>\n",
       "      <td>contradiction</td>\n",
       "      <td>( ( ( A ( young girl ) ) ( with ( ( ( ( ( ( bl...</td>\n",
       "      <td>( ( ( A ( young girl ) ) knits ) ( a sweater ) )</td>\n",
       "      <td>(ROOT (NP (NP (DT A) (JJ young) (NN girl)) (PP...</td>\n",
       "      <td>(ROOT (NP (NP (DT A) (JJ young) (NN girl)) (NP...</td>\n",
       "      <td>A young girl with blue and pink ribbons in her...</td>\n",
       "      <td>A young girl knits a sweater</td>\n",
       "      <td>4805835848.jpg#0</td>\n",
       "      <td>4805835848.jpg#0r1c</td>\n",
       "      <td>contradiction</td>\n",
       "      <td>contradiction</td>\n",
       "      <td>entailment</td>\n",
       "      <td>contradiction</td>\n",
       "      <td>neutral</td>\n",
       "    </tr>\n",
       "    <tr>\n",
       "      <th>9999</th>\n",
       "      <td>neutral</td>\n",
       "      <td>( ( ( A ( young girl ) ) ( with ( ( ( ( ( ( bl...</td>\n",
       "      <td>( ( A ( young mother ) ) ( tries ( to ( ( ( gr...</td>\n",
       "      <td>(ROOT (NP (NP (DT A) (JJ young) (NN girl)) (PP...</td>\n",
       "      <td>(ROOT (S (NP (DT A) (JJ young) (NN mother)) (V...</td>\n",
       "      <td>A young girl with blue and pink ribbons in her...</td>\n",
       "      <td>A young mother tries to grab her topless child...</td>\n",
       "      <td>4805835848.jpg#0</td>\n",
       "      <td>4805835848.jpg#0r1n</td>\n",
       "      <td>neutral</td>\n",
       "      <td>contradiction</td>\n",
       "      <td>neutral</td>\n",
       "      <td>neutral</td>\n",
       "      <td>entailment</td>\n",
       "    </tr>\n",
       "  </tbody>\n",
       "</table>\n",
       "<p>10000 rows × 14 columns</p>\n",
       "</div>"
      ],
      "text/plain": [
       "         gold_label                             sentence1_binary_parse  \\\n",
       "0           neutral  ( ( Two women ) ( ( are ( embracing ( while ( ...   \n",
       "1        entailment  ( ( Two women ) ( ( are ( embracing ( while ( ...   \n",
       "2     contradiction  ( ( Two women ) ( ( are ( embracing ( while ( ...   \n",
       "3        entailment  ( ( ( Two ( young children ) ) ( in ( ( ( ( ( ...   \n",
       "4           neutral  ( ( ( Two ( young children ) ) ( in ( ( ( ( ( ...   \n",
       "...             ...                                                ...   \n",
       "9995              -  ( ( ( A ( small girl ) ) ( wearing ( a ( pink ...   \n",
       "9996  contradiction  ( ( ( A ( small girl ) ) ( wearing ( a ( pink ...   \n",
       "9997     entailment  ( ( ( A ( young girl ) ) ( with ( ( ( ( ( ( bl...   \n",
       "9998  contradiction  ( ( ( A ( young girl ) ) ( with ( ( ( ( ( ( bl...   \n",
       "9999        neutral  ( ( ( A ( young girl ) ) ( with ( ( ( ( ( ( bl...   \n",
       "\n",
       "                                 sentence2_binary_parse  \\\n",
       "0     ( ( The sisters ) ( ( are ( ( hugging goodbye ...   \n",
       "1     ( ( Two woman ) ( ( are ( holding packages ) )...   \n",
       "2     ( ( The men ) ( ( are ( fighting ( outside ( a...   \n",
       "3     ( ( ( Two kids ) ( in ( numbered jerseys ) ) )...   \n",
       "4     ( ( ( Two kids ) ( at ( a ballgame ) ) ) ( ( w...   \n",
       "...                                                 ...   \n",
       "9995  ( ( The girl ) ( ( is ( sitting ( on ( ( a ( c...   \n",
       "9996  ( ( The girl ) ( ( is ( moving ( at ( ( the sp...   \n",
       "9997         ( People ( in ( a ( water fountain ) ) ) )   \n",
       "9998   ( ( ( A ( young girl ) ) knits ) ( a sweater ) )   \n",
       "9999  ( ( A ( young mother ) ) ( tries ( to ( ( ( gr...   \n",
       "\n",
       "                                        sentence1_parse  \\\n",
       "0     (ROOT (S (NP (CD Two) (NNS women)) (VP (VBP ar...   \n",
       "1     (ROOT (S (NP (CD Two) (NNS women)) (VP (VBP ar...   \n",
       "2     (ROOT (S (NP (CD Two) (NNS women)) (VP (VBP ar...   \n",
       "3     (ROOT (S (NP (NP (CD Two) (JJ young) (NNS chil...   \n",
       "4     (ROOT (S (NP (NP (CD Two) (JJ young) (NNS chil...   \n",
       "...                                                 ...   \n",
       "9995  (ROOT (S (NP (NP (DT A) (JJ small) (NN girl)) ...   \n",
       "9996  (ROOT (S (NP (NP (DT A) (JJ small) (NN girl)) ...   \n",
       "9997  (ROOT (NP (NP (DT A) (JJ young) (NN girl)) (PP...   \n",
       "9998  (ROOT (NP (NP (DT A) (JJ young) (NN girl)) (PP...   \n",
       "9999  (ROOT (NP (NP (DT A) (JJ young) (NN girl)) (PP...   \n",
       "\n",
       "                                        sentence2_parse  \\\n",
       "0     (ROOT (S (NP (DT The) (NNS sisters)) (VP (VBP ...   \n",
       "1     (ROOT (S (NP (CD Two) (NN woman)) (VP (VBP are...   \n",
       "2     (ROOT (S (NP (DT The) (NNS men)) (VP (VBP are)...   \n",
       "3     (ROOT (S (NP (NP (CD Two) (NNS kids)) (PP (IN ...   \n",
       "4     (ROOT (S (NP (NP (CD Two) (NNS kids)) (PP (IN ...   \n",
       "...                                                 ...   \n",
       "9995  (ROOT (S (NP (DT The) (NN girl)) (VP (VBZ is) ...   \n",
       "9996  (ROOT (S (NP (DT The) (NN girl)) (VP (VBZ is) ...   \n",
       "9997  (ROOT (NP (NP (NNS People)) (PP (IN in) (NP (D...   \n",
       "9998  (ROOT (NP (NP (DT A) (JJ young) (NN girl)) (NP...   \n",
       "9999  (ROOT (S (NP (DT A) (JJ young) (NN mother)) (V...   \n",
       "\n",
       "                                              sentence1  \\\n",
       "0     Two women are embracing while holding to go pa...   \n",
       "1     Two women are embracing while holding to go pa...   \n",
       "2     Two women are embracing while holding to go pa...   \n",
       "3     Two young children in blue jerseys, one with t...   \n",
       "4     Two young children in blue jerseys, one with t...   \n",
       "...                                                 ...   \n",
       "9995  A small girl wearing a pink jacket is riding o...   \n",
       "9996  A small girl wearing a pink jacket is riding o...   \n",
       "9997  A young girl with blue and pink ribbons in her...   \n",
       "9998  A young girl with blue and pink ribbons in her...   \n",
       "9999  A young girl with blue and pink ribbons in her...   \n",
       "\n",
       "                                              sentence2         captionID  \\\n",
       "0     The sisters are hugging goodbye while holding ...  4705552913.jpg#2   \n",
       "1                       Two woman are holding packages.  4705552913.jpg#2   \n",
       "2                  The men are fighting outside a deli.  4705552913.jpg#2   \n",
       "3        Two kids in numbered jerseys wash their hands.  2407214681.jpg#0   \n",
       "4              Two kids at a ballgame wash their hands.  2407214681.jpg#0   \n",
       "...                                                 ...               ...   \n",
       "9995  The girl is sitting on a carved horse made of ...    77063034.jpg#3   \n",
       "9996          The girl is moving at the speed of light.    77063034.jpg#3   \n",
       "9997                         People in a water fountain  4805835848.jpg#0   \n",
       "9998                       A young girl knits a sweater  4805835848.jpg#0   \n",
       "9999  A young mother tries to grab her topless child...  4805835848.jpg#0   \n",
       "\n",
       "                   pairID         label1         label2         label3  \\\n",
       "0     4705552913.jpg#2r1n        neutral     entailment        neutral   \n",
       "1     4705552913.jpg#2r1e     entailment     entailment     entailment   \n",
       "2     4705552913.jpg#2r1c  contradiction  contradiction  contradiction   \n",
       "3     2407214681.jpg#0r1e     entailment     entailment     entailment   \n",
       "4     2407214681.jpg#0r1n        neutral        neutral        neutral   \n",
       "...                   ...            ...            ...            ...   \n",
       "9995    77063034.jpg#3r1n        neutral  contradiction     entailment   \n",
       "9996    77063034.jpg#3r1c  contradiction  contradiction  contradiction   \n",
       "9997  4805835848.jpg#0r1e     entailment     entailment     entailment   \n",
       "9998  4805835848.jpg#0r1c  contradiction  contradiction     entailment   \n",
       "9999  4805835848.jpg#0r1n        neutral  contradiction        neutral   \n",
       "\n",
       "             label4         label5  \n",
       "0           neutral        neutral  \n",
       "1        entailment     entailment  \n",
       "2     contradiction  contradiction  \n",
       "3        entailment     entailment  \n",
       "4        entailment     entailment  \n",
       "...             ...            ...  \n",
       "9995  contradiction            NaN  \n",
       "9996  contradiction  contradiction  \n",
       "9997     entailment     entailment  \n",
       "9998  contradiction        neutral  \n",
       "9999        neutral     entailment  \n",
       "\n",
       "[10000 rows x 14 columns]"
      ]
     },
     "execution_count": 26,
     "metadata": {},
     "output_type": "execute_result"
    }
   ],
   "source": [
    "dev_data"
   ]
  },
  {
   "cell_type": "code",
   "execution_count": 28,
   "id": "b83d922b-1a94-4125-8ca2-8683534ae6c4",
   "metadata": {},
   "outputs": [],
   "source": [
    "def map_y_vals(y_val):\n",
    "    y_dict = {'entailment':2, 'neutral':1, 'contradiction':0}\n",
    "    return y_dict[y_val]"
   ]
  },
  {
   "cell_type": "code",
   "execution_count": 31,
   "id": "7a3c9693-e334-43e9-ba8b-c9f3a8c72ad0",
   "metadata": {},
   "outputs": [],
   "source": [
    "dev_data['preds'] = all_preds_dev.numpy()\n",
    "dev_data['act'] = dev_data['label1'].apply(map_y_vals)"
   ]
  },
  {
   "cell_type": "code",
   "execution_count": 32,
   "id": "7eb0be25-5d34-4a0b-830e-fc1cb9351f80",
   "metadata": {},
   "outputs": [],
   "source": [
    "def get_wrong(row):\n",
    "    if row['preds'] != row['act']:\n",
    "        return 1\n",
    "    else:\n",
    "        return 0"
   ]
  },
  {
   "cell_type": "code",
   "execution_count": 34,
   "id": "fbe1fdcd-18fa-4817-88d5-4728691fcb71",
   "metadata": {},
   "outputs": [],
   "source": [
    "dev_data['model_wrong'] = dev_data.apply(get_wrong,axis=1)"
   ]
  },
  {
   "cell_type": "code",
   "execution_count": 53,
   "id": "0b2ea4e7-63a8-4411-a9e2-b621ad4d69d3",
   "metadata": {},
   "outputs": [
    {
     "name": "stdout",
     "output_type": "stream",
     "text": [
      "Two men on bicycles competing in a race.\n",
      "Men are riding bicycles on the street.\n",
      "neutral\n",
      "0.0\n"
     ]
    }
   ],
   "source": [
    "x = 9\n",
    "print(dev_data[dev_data['model_wrong'] == 1].iloc[x]['sentence1'])\n",
    "print(dev_data[dev_data['model_wrong'] == 1].iloc[x]['sentence2'])\n",
    "print(dev_data[dev_data['model_wrong'] == 1].iloc[x]['label1'])\n",
    "print(dev_data[dev_data['model_wrong'] == 1].iloc[x]['preds'])"
   ]
  },
  {
   "cell_type": "code",
   "execution_count": null,
   "id": "4ac974ef-9b7a-4305-9aed-160c60196329",
   "metadata": {},
   "outputs": [],
   "source": []
  },
  {
   "cell_type": "code",
   "execution_count": null,
   "id": "20c0d670-a686-497a-8a91-3f218395d461",
   "metadata": {},
   "outputs": [],
   "source": []
  },
  {
   "cell_type": "code",
   "execution_count": null,
   "id": "e1b33947-e958-47f8-99a9-e5c8d0ef28da",
   "metadata": {},
   "outputs": [],
   "source": []
  },
  {
   "cell_type": "code",
   "execution_count": null,
   "id": "6ec789e6-78b8-430e-9ce8-ad99f1475329",
   "metadata": {},
   "outputs": [],
   "source": []
  },
  {
   "cell_type": "code",
   "execution_count": null,
   "id": "1a9bf17b-7de2-4e50-aa20-92ef383ea672",
   "metadata": {},
   "outputs": [],
   "source": [
    "Epoch dev loss: 1.120858532607935\n",
    "Dev accuracy: 0.3334\n",
    "\n",
    "Epoch dev loss: 1.099487037415717\n",
    "Dev accuracy: 0.3333\n",
    "\n",
    "Epoch dev loss: 1.1003777912467907\n",
    "Dev accuracy: 0.3334"
   ]
  },
  {
   "cell_type": "code",
   "execution_count": null,
   "id": "59c28e08-825a-46f1-af60-210779f1e050",
   "metadata": {},
   "outputs": [],
   "source": []
  },
  {
   "cell_type": "code",
   "execution_count": null,
   "id": "4aefa3d7-21fd-4557-b167-601ec15f20d2",
   "metadata": {},
   "outputs": [],
   "source": []
  },
  {
   "cell_type": "code",
   "execution_count": null,
   "id": "c3dff903-b102-4d72-bf16-a397a8986f18",
   "metadata": {},
   "outputs": [],
   "source": []
  },
  {
   "cell_type": "code",
   "execution_count": null,
   "id": "7907d388-0323-4366-b677-bc3b0205d6c7",
   "metadata": {},
   "outputs": [],
   "source": [
    "Epoch dev loss: 0.884068538570404\n",
    "Dev accuracy: 0.5948\n",
    "\n",
    "Epoch dev loss: 0.8711921903133393\n",
    "Dev accuracy: 0.6019\n",
    "\n",
    "Epoch dev loss: 0.8515633422374725\n",
    "Dev accuracy: 0.6133"
   ]
  }
 ],
 "metadata": {
  "kernelspec": {
   "display_name": "cosc",
   "language": "python",
   "name": "cosc"
  },
  "language_info": {
   "codemirror_mode": {
    "name": "ipython",
    "version": 3
   },
   "file_extension": ".py",
   "mimetype": "text/x-python",
   "name": "python",
   "nbconvert_exporter": "python",
   "pygments_lexer": "ipython3",
   "version": "3.9.7"
  }
 },
 "nbformat": 4,
 "nbformat_minor": 5
}
